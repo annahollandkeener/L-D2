{
 "cells": [
  {
   "cell_type": "markdown",
   "metadata": {},
   "source": [
    "Importing Pandas, reading in flow data and turning into data frame."
   ]
  },
  {
   "cell_type": "code",
   "execution_count": 102,
   "metadata": {},
   "outputs": [],
   "source": [
    "import pandas as pd\n",
    "\n",
    "flows = pd.read_csv(\"flow.csv\", converters={\"MF\":int})\n",
    "\n",
    "df = pd.DataFrame(flows)\n",
    "\n",
    "catchall = []\n",
    "\n",
    "range1 = {\n",
    "    'Month' : [],\n",
    "    'Day' : [],\n",
    "    'Flow' : [],\n",
    "    }\n",
    "range0_1500df = pd.DataFrame(range1)\n",
    "\n",
    "\n",
    "range2 = {\n",
    "    'Month' : [],\n",
    "    'Day' : [],\n",
    "    'Flow' : [],\n",
    "    }\n",
    "range1500_3500df = pd.DataFrame(range2) \n",
    "\n",
    "range3 = {\n",
    "    'Month' : [],\n",
    "    'Day' : [],\n",
    "    'Flow' : [],\n",
    "    }\n",
    "range3500_7500df = pd.DataFrame(range3)\n",
    "\n",
    "range4 = {\n",
    "    'Month' : [],\n",
    "    'Day' : [],\n",
    "    'Flow' : [],\n",
    "    }\n",
    "range7500_10000df = pd.DataFrame(range4)\n",
    "\n",
    "\n",
    "range5 = {\n",
    "    'Month' : [],\n",
    "    'Day' : [],\n",
    "    'Flow' : [],\n",
    "    }\n",
    "rangeOver10000df = pd.DataFrame(range5)"
   ]
  },
  {
   "cell_type": "markdown",
   "metadata": {},
   "source": [
    "Function for adding a new row to a dataframe."
   ]
  },
  {
   "cell_type": "code",
   "execution_count": 103,
   "metadata": {},
   "outputs": [],
   "source": [
    "x = 0\n",
    "def new_row(dataFrame, flow):\n",
    "    new_row = {'Month': df['Month'][x], 'Day': df['Day'][x], 'Flow': flow}\n",
    "    return new_row\n",
    "\n"
   ]
  },
  {
   "cell_type": "markdown",
   "metadata": {},
   "source": [
    "Sorting each day into its proper flow rate range. "
   ]
  },
  {
   "cell_type": "code",
   "execution_count": 104,
   "metadata": {},
   "outputs": [],
   "source": [
    "for flow in df['MF']:\n",
    "    if flow <= 1500:\n",
    "        range0_1500df = range0_1500df.append(new_row(range0_1500df, flow), ignore_index=True)\n",
    "        x += 1\n",
    "    elif ((flow > 1500) & (flow <= 3500)):\n",
    "        range1500_3500df = range1500_3500df.append(new_row(range1500_3500df, flow), ignore_index=True)\n",
    "        x += 1\n",
    "    elif ((flow > 3500) & (flow <= 7500)):\n",
    "        range3500_7500df = range3500_7500df.append(new_row(range3500_7500df, flow), ignore_index=True)\n",
    "        x += 1\n",
    "    elif ((flow > 7500) & (flow <= 10000)):\n",
    "        range7500_10000df = range7500_10000df.append(new_row(range7500_10000df, flow), ignore_index=True)\n",
    "        x += 1\n",
    "    elif (flow > 10000):\n",
    "        rangeOver10000df = rangeOver10000df.append(new_row(rangeOver10000df, flow), ignore_index=True)\n",
    "        x += 1\n",
    "    else:\n",
    "        catchall.append(flow)\n",
    "        x += 1"
   ]
  },
  {
   "cell_type": "markdown",
   "metadata": {},
   "source": [
    "Visualization"
   ]
  },
  {
   "cell_type": "code",
   "execution_count": 105,
   "metadata": {},
   "outputs": [
    {
     "name": "stdout",
     "output_type": "stream",
     "text": [
      "   Month   Day    Flow\n",
      "0    8.0  30.0  1365.0\n",
      "1    8.0  31.0  1233.0\n",
      "2    9.0   1.0  1372.0\n",
      "    Month   Day    Flow\n",
      "0     5.0  11.0  3020.0\n",
      "1     5.0  12.0  2686.0\n",
      "2     5.0  13.0  2558.0\n",
      "3     5.0  14.0  2457.0\n",
      "4     5.0  15.0  2425.0\n",
      "..    ...   ...     ...\n",
      "73   10.0  30.0  2776.0\n",
      "74   10.0  31.0  2737.0\n",
      "75   11.0   1.0  2642.0\n",
      "76   11.0   2.0  2663.0\n",
      "77   11.0   3.0  3249.0\n",
      "\n",
      "[78 rows x 3 columns]\n",
      "     Month  Day     MF\n",
      "0        1    1   9668\n",
      "1        1    2   9975\n",
      "2        1    3  10496\n",
      "3        1    4  11628\n",
      "4        1    5  12588\n",
      "..     ...  ...    ...\n",
      "361     12   27  10100\n",
      "362     12   28   9253\n",
      "363     12   29   8509\n",
      "364     12   30   8669\n",
      "365     12   31   9222\n",
      "\n",
      "[366 rows x 3 columns]\n"
     ]
    }
   ],
   "source": [
    "print(range0_1500df)\n",
    "print(range1500_3500df)\n",
    "\n",
    "print(df)\n",
    "\n"
   ]
  }
 ],
 "metadata": {
  "kernelspec": {
   "display_name": "Python 3",
   "language": "python",
   "name": "python3"
  },
  "language_info": {
   "codemirror_mode": {
    "name": "ipython",
    "version": 3
   },
   "file_extension": ".py",
   "mimetype": "text/x-python",
   "name": "python",
   "nbconvert_exporter": "python",
   "pygments_lexer": "ipython3",
   "version": "3.9.1"
  },
  "orig_nbformat": 4
 },
 "nbformat": 4,
 "nbformat_minor": 2
}
