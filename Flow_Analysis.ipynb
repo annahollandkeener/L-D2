{
 "cells": [
  {
   "cell_type": "code",
   "execution_count": 1,
   "metadata": {},
   "outputs": [],
   "source": [
    "import pandas as pd\n",
    "import matplotlib.pyplot as plt\n",
    "import numpy as np"
   ]
  },
  {
   "cell_type": "code",
   "execution_count": 2,
   "metadata": {},
   "outputs": [],
   "source": [
    "#CSV variables to remember\n",
    "file = ''\n",
    "flowColumn = ''\n",
    "dayColumn = ''"
   ]
  },
  {
   "cell_type": "markdown",
   "metadata": {},
   "source": [
    "Information Collection"
   ]
  },
  {
   "cell_type": "code",
   "execution_count": 3,
   "metadata": {},
   "outputs": [
    {
     "name": "stdout",
     "output_type": "stream",
     "text": [
      "Invalid input.\n",
      "Default ranges are: 0-1500, 1500-3500, 3500-7500, 7500-10000, >10000\n",
      "Invalid input.\n",
      "Default ranges are: 0-1500, 1500-3500, 3500-7500, 7500-10000, >10000\n",
      "Start value must be a number.\n",
      "Start value must be a number.\n"
     ]
    }
   ],
   "source": [
    "#Remembering if user wants the flow duration curve chart included or not\n",
    "while True:\n",
    "    flowDurationCurve = input(\"Flow duration curve? (y/n): \")\n",
    "    if flowDurationCurve == 'y':\n",
    "        break\n",
    "    elif flowDurationCurve == 'n':\n",
    "        break\n",
    "    else:\n",
    "        print(\"Invalid input.\")\n",
    "\n",
    "#Remembering if user wants the instance duration charts included or not\n",
    "while True:\n",
    "    instanceClass = input(\"Flow instance classification? (y/n): \")\n",
    "    if instanceClass == 'y':\n",
    "        break\n",
    "    elif instanceClass == 'n':\n",
    "        break\n",
    "    else:\n",
    "        print(\"Invalid input.\")       \n",
    "\n",
    "\n",
    "#Collecting details on csv\n",
    "file = input(\"Enter csv name: \")\n",
    "flowColumn = input(\"Enter name of flow column: \")\n",
    "dayColumn = input(\"Enter name of the time column (units in days): \")\n",
    "\n",
    "#Prompting the user to decide between default ranges and unique ranges\n",
    "while True:\n",
    "    print(\"Default ranges are: 0-1500, 1500-3500, 3500-7500, 7500-10000, >10000\")\n",
    "    specify = input(\"Specify ranges? (y/n): \")\n",
    "    if specify == 'y':\n",
    "        break\n",
    "    elif specify == 'n':\n",
    "        print(\"Default ranges selected: 0-1500, 1500-3500, 3500-7500, 7500-10000, >10000\")\n",
    "        break\n",
    "    else:\n",
    "        print(\"Invalid input.\")      \n",
    "\n",
    "#list to keep track of ranges\n",
    "ranges = []\n",
    "\n",
    "#prompts user to specify ranges until they are finished \n",
    "if specify == 'y':\n",
    "    rangeCount = 1\n",
    "    adding = True\n",
    "\n",
    "    while adding == True:\n",
    "        start = input(\"Enter start of range \" + str(rangeCount) + \": \")\n",
    "        end = input(\"Enter end of range \" + str(rangeCount) + \". Enter '>' for all values above the start: \")\n",
    "\n",
    "        if not isinstance(start, int):\n",
    "            print(\"Start value must be a number.\")\n",
    "\n",
    "        elif (end != '>') and (not isinstance(end, int)):\n",
    "            print(\"End value must be '>' or a number.\")\n",
    "\n",
    "        elif start >= end:\n",
    "            print(\"Start cannot be larger than end value. Range not added.\")\n",
    "\n",
    "        else:\n",
    "            if end == '>':\n",
    "                ranges.append(('>' + start)) #Check to see if this is actually adding this to the list of tuples since its not a tuple\n",
    "                print(\"Final range: >\" + start + \".\")\n",
    "                break\n",
    "\n",
    "            else:\n",
    "                ranges.append((start, end))\n",
    "                rangeCount+=1\n",
    "\n",
    "            while True:\n",
    "                another = input(\"Add another range? (y/n): \")\n",
    "                if another == 'n':\n",
    "                    adding = False\n",
    "                    break\n",
    "                elif another == 'y':\n",
    "                    break\n",
    "                else:\n",
    "                    print(\"Invalid input.\")\n",
    "\n",
    "\n",
    "#Start of process\n",
    "print(\"Working...\")"
   ]
  },
  {
   "cell_type": "markdown",
   "metadata": {},
   "source": [
    "Reading data in"
   ]
  },
  {
   "cell_type": "code",
   "execution_count": null,
   "metadata": {},
   "outputs": [
    {
     "data": {
      "text/plain": [
       "'data = pd.read_csv(file, converters={flowColumn:int})\\n\\ndf = pd.DataFrame(data)'"
      ]
     },
     "execution_count": 12,
     "metadata": {},
     "output_type": "execute_result"
    }
   ],
   "source": [
    "'''data = pd.read_csv(file, converters={flowColumn:int})\n",
    "\n",
    "df = pd.DataFrame(data)'''"
   ]
  },
  {
   "cell_type": "code",
   "execution_count": null,
   "metadata": {},
   "outputs": [],
   "source": []
  }
 ],
 "metadata": {
  "kernelspec": {
   "display_name": "Python 3",
   "language": "python",
   "name": "python3"
  },
  "language_info": {
   "codemirror_mode": {
    "name": "ipython",
    "version": 3
   },
   "file_extension": ".py",
   "mimetype": "text/x-python",
   "name": "python",
   "nbconvert_exporter": "python",
   "pygments_lexer": "ipython3",
   "version": "3.9.1"
  },
  "orig_nbformat": 4
 },
 "nbformat": 4,
 "nbformat_minor": 2
}
