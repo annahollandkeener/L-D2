{
 "cells": [
  {
   "cell_type": "code",
   "execution_count": null,
   "metadata": {},
   "outputs": [],
   "source": [
    "import pandas as pd\n",
    "import matplotlib.pyplot as plt\n",
    "import numpy as np"
   ]
  },
  {
   "cell_type": "code",
   "execution_count": null,
   "metadata": {},
   "outputs": [],
   "source": [
    "#Remembering if user wants the flow duration curve chart included or not\n",
    "while True:\n",
    "    flowDurationCurve = input(\"Flow duration curve? (y/n): \")\n",
    "    if flowDurationCurve == 'y':\n",
    "        break\n",
    "    elif flowDurationCurve == 'n':\n",
    "        break\n",
    "    else:\n",
    "        print(\"Invalid input.\")\n",
    "\n",
    "#Remembering if user wants the instance duration charts included or not\n",
    "while True:\n",
    "    instanceClass = input(\"Flow instance classification? (y/n): \")\n",
    "    if instanceClass == 'y':\n",
    "        break\n",
    "    elif instanceClass == 'n':\n",
    "        break\n",
    "    else:\n",
    "        print(\"Invalid input.\")       \n",
    "\n",
    "\n",
    "#Collecting details on csv\n",
    "file = input(\"Enter csv name: \")\n",
    "flowColumn = input(\"Enter name of flow column: \")\n",
    "dayColumn = input(\"Enter name of the time column (units in days): \")\n",
    "\n",
    "#Prompting the user to decide between default ranges and unique ranges\n",
    "while True:\n",
    "    print(\"Default ranges are: 0-1500, 1500-3500, 3500-7500, 7500-10000, >10000\")\n",
    "    default = input(\"Specify ranges? (y/n): \")\n",
    "    if default == 'y':\n",
    "        break\n",
    "    elif default == 'n':\n",
    "        print(\"Default ranges selected: 0-1500, 1500-3500, 3500-7500, \")\n",
    "        break\n",
    "    else:\n",
    "        print(\"Invalid input.\")      \n",
    "\n",
    "#list to keep track of ranges\n",
    "ranges = []\n",
    "\n",
    "#prompts user to specify ranges until they are finished \n",
    "if default == 'y':\n",
    "    rangeCount = 1\n",
    "    adding = True\n",
    "    while adding == True:\n",
    "        start = input(\"Enter start of range \" + rangeCount + \": \")\n",
    "        end = input(\"Enter end of range \" + rangeCount + \": \")\n",
    "        if start >= end:\n",
    "            print(\"Start cannot be larger than end value. Range not added.\")\n",
    "        else:\n",
    "            ranges.append((start, end))\n",
    "            rangeCount+=1\n",
    "            while True:\n",
    "                another = input(\"Add another range? (y/n): \")\n",
    "                if another == 'n':\n",
    "                    adding = False\n",
    "                    break\n",
    "                elif another == 'y':\n",
    "                    break\n",
    "                else:\n",
    "                    print(\"Invalid input.\")\n",
    "\n",
    "\n",
    "\n",
    "\n"
   ]
  },
  {
   "cell_type": "markdown",
   "metadata": {},
   "source": []
  },
  {
   "cell_type": "code",
   "execution_count": null,
   "metadata": {},
   "outputs": [],
   "source": [
    "flows = pd.read_csv(file, converters={\"MF\":int})\n",
    "\n",
    "df = pd.DataFrame(flows)"
   ]
  }
 ],
 "metadata": {
  "language_info": {
   "name": "python"
  },
  "orig_nbformat": 4
 },
 "nbformat": 4,
 "nbformat_minor": 2
}
